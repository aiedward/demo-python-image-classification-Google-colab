{
  "nbformat": 4,
  "nbformat_minor": 0,
  "metadata": {
    "colab": {
      "name": "demo-python-image-classification.ipynb",
      "version": "0.3.2",
      "views": {},
      "default_view": {},
      "provenance": []
    },
    "kernelspec": {
      "display_name": "Python 2",
      "language": "python",
      "name": "python2"
    },
    "accelerator": "GPU"
  },
  "cells": [
    {
      "metadata": {
        "id": "sxMdeujw9xZK",
        "colab_type": "code",
        "colab": {
          "autoexec": {
            "startup": false,
            "wait_interval": 0
          },
          "output_extras": [
            {
              "item_id": 18
            }
          ],
          "base_uri": "https://localhost:8080/",
          "height": 817
        },
        "outputId": "20bb5a25-95d7-45cb-aa31-320aa35784aa",
        "executionInfo": {
          "status": "ok",
          "timestamp": 1517280519271,
          "user_tz": -480,
          "elapsed": 14646,
          "user": {
            "displayName": "Shuyi Wang",
            "photoUrl": "//lh3.googleusercontent.com/-1LlXFbFTMeo/AAAAAAAAAAI/AAAAAAAARpY/98ntj53mwGo/s50-c-k-no/photo.jpg",
            "userId": "104523040041671857605"
          }
        }
      },
      "cell_type": "code",
      "source": [
        "!pip install turicreate"
      ],
      "execution_count": 2,
      "outputs": [
        {
          "output_type": "stream",
          "text": [
            "Collecting turicreate\n",
            "  Downloading turicreate-4.0-py2.7.tar.gz (16.0MB)\n",
            "\u001b[K    100% |████████████████████████████████| 16.0MB 77kB/s \n",
            "\u001b[?25hCollecting coremltools==0.6.3 (from turicreate)\n",
            "  Downloading coremltools-0.6.3-py2.7-none-manylinux1_x86_64.whl (3.4MB)\n",
            "\u001b[K    100% |████████████████████████████████| 3.4MB 357kB/s \n",
            "\u001b[?25hRequirement already satisfied: decorator>=4.0.9 in /usr/local/lib/python2.7/dist-packages (from turicreate)\n",
            "Collecting mxnet==0.11 (from turicreate)\n",
            "  Downloading mxnet-0.11.0-py2.py3-none-manylinux1_x86_64.whl (11.4MB)\n",
            "\u001b[K    100% |████████████████████████████████| 11.4MB 106kB/s \n",
            "\u001b[?25hRequirement already satisfied: pandas>=0.19.0 in /usr/local/lib/python2.7/dist-packages (from turicreate)\n",
            "Requirement already satisfied: pillow>=3.3.0 in /usr/local/lib/python2.7/dist-packages (from turicreate)\n",
            "Collecting prettytable==0.7.2 (from turicreate)\n",
            "  Downloading prettytable-0.7.2.zip\n",
            "Requirement already satisfied: requests>=2.9.1 in /usr/local/lib/python2.7/dist-packages (from turicreate)\n",
            "Collecting six==1.10.0 (from coremltools==0.6.3->turicreate)\n",
            "  Downloading six-1.10.0-py2.py3-none-any.whl\n",
            "Requirement already satisfied: numpy>=1.6.2 in /usr/local/lib/python2.7/dist-packages (from coremltools==0.6.3->turicreate)\n",
            "Requirement already satisfied: protobuf>=3.1.0 in /usr/local/lib/python2.7/dist-packages (from coremltools==0.6.3->turicreate)\n",
            "Collecting graphviz (from mxnet==0.11->turicreate)\n",
            "  Downloading graphviz-0.8.2-py2.py3-none-any.whl\n",
            "Requirement already satisfied: pytz>=2011k in /usr/local/lib/python2.7/dist-packages (from pandas>=0.19.0->turicreate)\n",
            "Requirement already satisfied: python-dateutil in /usr/local/lib/python2.7/dist-packages (from pandas>=0.19.0->turicreate)\n",
            "Requirement already satisfied: olefile in /usr/local/lib/python2.7/dist-packages (from pillow>=3.3.0->turicreate)\n",
            "Requirement already satisfied: idna<2.7,>=2.5 in /usr/local/lib/python2.7/dist-packages (from requests>=2.9.1->turicreate)\n",
            "Requirement already satisfied: urllib3<1.23,>=1.21.1 in /usr/local/lib/python2.7/dist-packages (from requests>=2.9.1->turicreate)\n",
            "Requirement already satisfied: certifi>=2017.4.17 in /usr/local/lib/python2.7/dist-packages (from requests>=2.9.1->turicreate)\n",
            "Requirement already satisfied: chardet<3.1.0,>=3.0.2 in /usr/local/lib/python2.7/dist-packages (from requests>=2.9.1->turicreate)\n",
            "Requirement already satisfied: setuptools in /usr/lib/python2.7/dist-packages (from protobuf>=3.1.0->coremltools==0.6.3->turicreate)\n",
            "Building wheels for collected packages: turicreate, prettytable\n",
            "  Running setup.py bdist_wheel for turicreate ... \u001b[?25l-\b \b\\\b \b|\b \b/\b \b-\b \b\\\b \bdone\n",
            "\u001b[?25h  Stored in directory: /content/.cache/pip/wheels/6f/fe/b9/c7b2183ff515803f0698d927fff306064088f573a3eeb04305\n",
            "  Running setup.py bdist_wheel for prettytable ... \u001b[?25l-\b \bdone\n",
            "\u001b[?25h  Stored in directory: /content/.cache/pip/wheels/b6/90/7b/1c22b89217d0eba6d5f406e562365ebee804f0d4595b2bdbcd\n",
            "Successfully built turicreate prettytable\n",
            "Installing collected packages: six, coremltools, graphviz, mxnet, prettytable, turicreate\n",
            "  Found existing installation: six 1.11.0\n",
            "    Uninstalling six-1.11.0:\n",
            "      Successfully uninstalled six-1.11.0\n",
            "Successfully installed coremltools-0.6.3 graphviz-0.8.2 mxnet-0.11.0 prettytable-0.7.2 six-1.10.0 turicreate-4.0\n"
          ],
          "name": "stdout"
        }
      ]
    },
    {
      "metadata": {
        "id": "lBW6aB339oDh",
        "colab_type": "code",
        "colab": {
          "autoexec": {
            "startup": false,
            "wait_interval": 0
          }
        }
      },
      "cell_type": "code",
      "source": [
        "import turicreate as tc"
      ],
      "execution_count": 0,
      "outputs": []
    },
    {
      "metadata": {
        "id": "ctS0qnWi9_eB",
        "colab_type": "code",
        "colab": {
          "autoexec": {
            "startup": false,
            "wait_interval": 0
          }
        }
      },
      "cell_type": "code",
      "source": [
        "import os\n",
        "os.chdir(\"drive/demo-colab/demo-python-image-classification/\")"
      ],
      "execution_count": 0,
      "outputs": []
    },
    {
      "metadata": {
        "id": "wtSix9e79oDl",
        "colab_type": "code",
        "colab": {
          "autoexec": {
            "startup": false,
            "wait_interval": 0
          }
        }
      },
      "cell_type": "code",
      "source": [
        "img_folder = 'image'"
      ],
      "execution_count": 0,
      "outputs": []
    },
    {
      "metadata": {
        "id": "JlfipBe49oDn",
        "colab_type": "code",
        "colab": {
          "autoexec": {
            "startup": false,
            "wait_interval": 0
          },
          "output_extras": [
            {
              "item_id": 1
            },
            {
              "item_id": 2
            },
            {
              "item_id": 3
            },
            {
              "item_id": 4
            },
            {
              "item_id": 5
            },
            {
              "item_id": 6
            },
            {
              "item_id": 7
            },
            {
              "item_id": 8
            },
            {
              "item_id": 9
            },
            {
              "item_id": 10
            },
            {
              "item_id": 11
            },
            {
              "item_id": 12
            },
            {
              "item_id": 13
            },
            {
              "item_id": 14
            }
          ],
          "base_uri": "https://localhost:8080/",
          "height": 297
        },
        "outputId": "598e07f1-57f4-4629-ff3b-24f19680dcb1",
        "executionInfo": {
          "status": "ok",
          "timestamp": 1517280657877,
          "user_tz": -480,
          "elapsed": 77133,
          "user": {
            "displayName": "Shuyi Wang",
            "photoUrl": "//lh3.googleusercontent.com/-1LlXFbFTMeo/AAAAAAAAAAI/AAAAAAAARpY/98ntj53mwGo/s50-c-k-no/photo.jpg",
            "userId": "104523040041671857605"
          }
        }
      },
      "cell_type": "code",
      "source": [
        "data = tc.image_analysis.load_images(img_folder, with_path=True)"
      ],
      "execution_count": 10,
      "outputs": [
        {
          "output_type": "display_data",
          "data": {
            "text/plain": [
              "Read 14 images in 5.14675 secs\tspeed: 2.72017 file/sec"
            ],
            "text/html": [
              "<pre>Read 14 images in 5.14675 secs\tspeed: 2.72017 file/sec</pre>"
            ]
          },
          "metadata": {
            "tags": []
          }
        },
        {
          "output_type": "display_data",
          "data": {
            "text/plain": [
              "Read 28 images in 10.3996 secs\tspeed: 2.66524 file/sec"
            ],
            "text/html": [
              "<pre>Read 28 images in 10.3996 secs\tspeed: 2.66524 file/sec</pre>"
            ]
          },
          "metadata": {
            "tags": []
          }
        },
        {
          "output_type": "display_data",
          "data": {
            "text/plain": [
              "Read 39 images in 15.444 secs\tspeed: 2.18061 file/sec"
            ],
            "text/html": [
              "<pre>Read 39 images in 15.444 secs\tspeed: 2.18061 file/sec</pre>"
            ]
          },
          "metadata": {
            "tags": []
          }
        },
        {
          "output_type": "display_data",
          "data": {
            "text/plain": [
              "Read 53 images in 20.5147 secs\tspeed: 2.76096 file/sec"
            ],
            "text/html": [
              "<pre>Read 53 images in 20.5147 secs\tspeed: 2.76096 file/sec</pre>"
            ]
          },
          "metadata": {
            "tags": []
          }
        },
        {
          "output_type": "display_data",
          "data": {
            "text/plain": [
              "Read 66 images in 25.5444 secs\tspeed: 2.58465 file/sec"
            ],
            "text/html": [
              "<pre>Read 66 images in 25.5444 secs\tspeed: 2.58465 file/sec</pre>"
            ]
          },
          "metadata": {
            "tags": []
          }
        },
        {
          "output_type": "display_data",
          "data": {
            "text/plain": [
              "Read 82 images in 30.8536 secs\tspeed: 3.01363 file/sec"
            ],
            "text/html": [
              "<pre>Read 82 images in 30.8536 secs\tspeed: 3.01363 file/sec</pre>"
            ]
          },
          "metadata": {
            "tags": []
          }
        },
        {
          "output_type": "display_data",
          "data": {
            "text/plain": [
              "Read 97 images in 36.0063 secs\tspeed: 2.91112 file/sec"
            ],
            "text/html": [
              "<pre>Read 97 images in 36.0063 secs\tspeed: 2.91112 file/sec</pre>"
            ]
          },
          "metadata": {
            "tags": []
          }
        },
        {
          "output_type": "display_data",
          "data": {
            "text/plain": [
              "Read 110 images in 41.2702 secs\tspeed: 2.46962 file/sec"
            ],
            "text/html": [
              "<pre>Read 110 images in 41.2702 secs\tspeed: 2.46962 file/sec</pre>"
            ]
          },
          "metadata": {
            "tags": []
          }
        },
        {
          "output_type": "display_data",
          "data": {
            "text/plain": [
              "Read 125 images in 46.5637 secs\tspeed: 2.83371 file/sec"
            ],
            "text/html": [
              "<pre>Read 125 images in 46.5637 secs\tspeed: 2.83371 file/sec</pre>"
            ]
          },
          "metadata": {
            "tags": []
          }
        },
        {
          "output_type": "display_data",
          "data": {
            "text/plain": [
              "Read 139 images in 51.7679 secs\tspeed: 2.69009 file/sec"
            ],
            "text/html": [
              "<pre>Read 139 images in 51.7679 secs\tspeed: 2.69009 file/sec</pre>"
            ]
          },
          "metadata": {
            "tags": []
          }
        },
        {
          "output_type": "display_data",
          "data": {
            "text/plain": [
              "Read 154 images in 57.2336 secs\tspeed: 2.74442 file/sec"
            ],
            "text/html": [
              "<pre>Read 154 images in 57.2336 secs\tspeed: 2.74442 file/sec</pre>"
            ]
          },
          "metadata": {
            "tags": []
          }
        },
        {
          "output_type": "display_data",
          "data": {
            "text/plain": [
              "Read 169 images in 62.4009 secs\tspeed: 2.90287 file/sec"
            ],
            "text/html": [
              "<pre>Read 169 images in 62.4009 secs\tspeed: 2.90287 file/sec</pre>"
            ]
          },
          "metadata": {
            "tags": []
          }
        },
        {
          "output_type": "display_data",
          "data": {
            "text/plain": [
              "Read 181 images in 67.4385 secs\tspeed: 2.38205 file/sec"
            ],
            "text/html": [
              "<pre>Read 181 images in 67.4385 secs\tspeed: 2.38205 file/sec</pre>"
            ]
          },
          "metadata": {
            "tags": []
          }
        },
        {
          "output_type": "display_data",
          "data": {
            "text/plain": [
              "Read 194 images in 72.4987 secs\tspeed: 2.56911 file/sec"
            ],
            "text/html": [
              "<pre>Read 194 images in 72.4987 secs\tspeed: 2.56911 file/sec</pre>"
            ]
          },
          "metadata": {
            "tags": []
          }
        }
      ]
    },
    {
      "metadata": {
        "id": "0QgWbHkp9oDp",
        "colab_type": "code",
        "colab": {
          "autoexec": {
            "startup": false,
            "wait_interval": 0
          },
          "output_extras": [
            {
              "item_id": 1
            }
          ],
          "base_uri": "https://localhost:8080/",
          "height": 449
        },
        "outputId": "9300fe39-b223-473f-fa7c-9c37ec99a5e6",
        "executionInfo": {
          "status": "ok",
          "timestamp": 1517280660935,
          "user_tz": -480,
          "elapsed": 970,
          "user": {
            "displayName": "Shuyi Wang",
            "photoUrl": "//lh3.googleusercontent.com/-1LlXFbFTMeo/AAAAAAAAAAI/AAAAAAAARpY/98ntj53mwGo/s50-c-k-no/photo.jpg",
            "userId": "104523040041671857605"
          }
        }
      },
      "cell_type": "code",
      "source": [
        "data"
      ],
      "execution_count": 11,
      "outputs": [
        {
          "output_type": "execute_result",
          "data": {
            "text/html": [
              "<div style=\"max-height:1000px;max-width:1500px;overflow:auto;\"><table frame=\"box\" rules=\"cols\">\n",
              "    <tr>\n",
              "        <th style=\"padding-left: 1em; padding-right: 1em; text-align: center\">path</th>\n",
              "        <th style=\"padding-left: 1em; padding-right: 1em; text-align: center\">image</th>\n",
              "    </tr>\n",
              "    <tr>\n",
              "        <td style=\"padding-left: 1em; padding-right: 1em; text-align: center; vertical-align: top\">/content/drive/demo-colab<br>/demo-python-image-cl ...</td>\n",
              "        <td style=\"padding-left: 1em; padding-right: 1em; text-align: center; vertical-align: top\">Height: 450 Width: 800</td>\n",
              "    </tr>\n",
              "    <tr>\n",
              "        <td style=\"padding-left: 1em; padding-right: 1em; text-align: center; vertical-align: top\">/content/drive/demo-colab<br>/demo-python-image-cl ...</td>\n",
              "        <td style=\"padding-left: 1em; padding-right: 1em; text-align: center; vertical-align: top\">Height: 330 Width: 255</td>\n",
              "    </tr>\n",
              "    <tr>\n",
              "        <td style=\"padding-left: 1em; padding-right: 1em; text-align: center; vertical-align: top\">/content/drive/demo-colab<br>/demo-python-image-cl ...</td>\n",
              "        <td style=\"padding-left: 1em; padding-right: 1em; text-align: center; vertical-align: top\">Height: 233 Width: 216</td>\n",
              "    </tr>\n",
              "    <tr>\n",
              "        <td style=\"padding-left: 1em; padding-right: 1em; text-align: center; vertical-align: top\">/content/drive/demo-colab<br>/demo-python-image-cl ...</td>\n",
              "        <td style=\"padding-left: 1em; padding-right: 1em; text-align: center; vertical-align: top\">Height: 180 Width: 320</td>\n",
              "    </tr>\n",
              "    <tr>\n",
              "        <td style=\"padding-left: 1em; padding-right: 1em; text-align: center; vertical-align: top\">/content/drive/demo-colab<br>/demo-python-image-cl ...</td>\n",
              "        <td style=\"padding-left: 1em; padding-right: 1em; text-align: center; vertical-align: top\">Height: 169 Width: 299</td>\n",
              "    </tr>\n",
              "    <tr>\n",
              "        <td style=\"padding-left: 1em; padding-right: 1em; text-align: center; vertical-align: top\">/content/drive/demo-colab<br>/demo-python-image-cl ...</td>\n",
              "        <td style=\"padding-left: 1em; padding-right: 1em; text-align: center; vertical-align: top\">Height: 480 Width: 640</td>\n",
              "    </tr>\n",
              "    <tr>\n",
              "        <td style=\"padding-left: 1em; padding-right: 1em; text-align: center; vertical-align: top\">/content/drive/demo-colab<br>/demo-python-image-cl ...</td>\n",
              "        <td style=\"padding-left: 1em; padding-right: 1em; text-align: center; vertical-align: top\">Height: 1064 Width: 600</td>\n",
              "    </tr>\n",
              "    <tr>\n",
              "        <td style=\"padding-left: 1em; padding-right: 1em; text-align: center; vertical-align: top\">/content/drive/demo-colab<br>/demo-python-image-cl ...</td>\n",
              "        <td style=\"padding-left: 1em; padding-right: 1em; text-align: center; vertical-align: top\">Height: 322 Width: 268</td>\n",
              "    </tr>\n",
              "    <tr>\n",
              "        <td style=\"padding-left: 1em; padding-right: 1em; text-align: center; vertical-align: top\">/content/drive/demo-colab<br>/demo-python-image-cl ...</td>\n",
              "        <td style=\"padding-left: 1em; padding-right: 1em; text-align: center; vertical-align: top\">Height: 201 Width: 251</td>\n",
              "    </tr>\n",
              "    <tr>\n",
              "        <td style=\"padding-left: 1em; padding-right: 1em; text-align: center; vertical-align: top\">/content/drive/demo-colab<br>/demo-python-image-cl ...</td>\n",
              "        <td style=\"padding-left: 1em; padding-right: 1em; text-align: center; vertical-align: top\">Height: 1426 Width: 1000</td>\n",
              "    </tr>\n",
              "</table>\n",
              "[199 rows x 2 columns]<br/>Note: Only the head of the SFrame is printed.<br/>You can use print_rows(num_rows=m, num_columns=n) to print more rows and columns.\n",
              "</div>"
            ],
            "text/plain": [
              "Columns:\n",
              "\tpath\tstr\n",
              "\timage\tImage\n",
              "\n",
              "Rows: 199\n",
              "\n",
              "Data:\n",
              "+-------------------------------+--------------------------+\n",
              "|              path             |          image           |\n",
              "+-------------------------------+--------------------------+\n",
              "| /content/drive/demo-colab/... |  Height: 450 Width: 800  |\n",
              "| /content/drive/demo-colab/... |  Height: 330 Width: 255  |\n",
              "| /content/drive/demo-colab/... |  Height: 233 Width: 216  |\n",
              "| /content/drive/demo-colab/... |  Height: 180 Width: 320  |\n",
              "| /content/drive/demo-colab/... |  Height: 169 Width: 299  |\n",
              "| /content/drive/demo-colab/... |  Height: 480 Width: 640  |\n",
              "| /content/drive/demo-colab/... | Height: 1064 Width: 600  |\n",
              "| /content/drive/demo-colab/... |  Height: 322 Width: 268  |\n",
              "| /content/drive/demo-colab/... |  Height: 201 Width: 251  |\n",
              "| /content/drive/demo-colab/... | Height: 1426 Width: 1000 |\n",
              "+-------------------------------+--------------------------+\n",
              "[199 rows x 2 columns]\n",
              "Note: Only the head of the SFrame is printed.\n",
              "You can use print_rows(num_rows=m, num_columns=n) to print more rows and columns."
            ]
          },
          "metadata": {
            "tags": []
          },
          "execution_count": 11
        }
      ]
    },
    {
      "metadata": {
        "id": "I34OAxLk9oDs",
        "colab_type": "code",
        "colab": {
          "autoexec": {
            "startup": false,
            "wait_interval": 0
          }
        }
      },
      "cell_type": "code",
      "source": [
        "data['label'] = data['path'].apply(lambda path: 'doraemon' if 'doraemon' in path else 'walle')"
      ],
      "execution_count": 0,
      "outputs": []
    },
    {
      "metadata": {
        "id": "xohXuq0I9oDu",
        "colab_type": "code",
        "colab": {
          "autoexec": {
            "startup": false,
            "wait_interval": 0
          },
          "output_extras": [
            {
              "item_id": 1
            }
          ],
          "base_uri": "https://localhost:8080/",
          "height": 449
        },
        "outputId": "f7cfbc30-40ee-4b08-ba5b-707d0e34f8eb",
        "executionInfo": {
          "status": "ok",
          "timestamp": 1517280686602,
          "user_tz": -480,
          "elapsed": 1102,
          "user": {
            "displayName": "Shuyi Wang",
            "photoUrl": "//lh3.googleusercontent.com/-1LlXFbFTMeo/AAAAAAAAAAI/AAAAAAAARpY/98ntj53mwGo/s50-c-k-no/photo.jpg",
            "userId": "104523040041671857605"
          }
        }
      },
      "cell_type": "code",
      "source": [
        "data"
      ],
      "execution_count": 13,
      "outputs": [
        {
          "output_type": "execute_result",
          "data": {
            "text/html": [
              "<div style=\"max-height:1000px;max-width:1500px;overflow:auto;\"><table frame=\"box\" rules=\"cols\">\n",
              "    <tr>\n",
              "        <th style=\"padding-left: 1em; padding-right: 1em; text-align: center\">path</th>\n",
              "        <th style=\"padding-left: 1em; padding-right: 1em; text-align: center\">image</th>\n",
              "        <th style=\"padding-left: 1em; padding-right: 1em; text-align: center\">label</th>\n",
              "    </tr>\n",
              "    <tr>\n",
              "        <td style=\"padding-left: 1em; padding-right: 1em; text-align: center; vertical-align: top\">/content/drive/demo-colab<br>/demo-python-image-cl ...</td>\n",
              "        <td style=\"padding-left: 1em; padding-right: 1em; text-align: center; vertical-align: top\">Height: 450 Width: 800</td>\n",
              "        <td style=\"padding-left: 1em; padding-right: 1em; text-align: center; vertical-align: top\">walle</td>\n",
              "    </tr>\n",
              "    <tr>\n",
              "        <td style=\"padding-left: 1em; padding-right: 1em; text-align: center; vertical-align: top\">/content/drive/demo-colab<br>/demo-python-image-cl ...</td>\n",
              "        <td style=\"padding-left: 1em; padding-right: 1em; text-align: center; vertical-align: top\">Height: 330 Width: 255</td>\n",
              "        <td style=\"padding-left: 1em; padding-right: 1em; text-align: center; vertical-align: top\">walle</td>\n",
              "    </tr>\n",
              "    <tr>\n",
              "        <td style=\"padding-left: 1em; padding-right: 1em; text-align: center; vertical-align: top\">/content/drive/demo-colab<br>/demo-python-image-cl ...</td>\n",
              "        <td style=\"padding-left: 1em; padding-right: 1em; text-align: center; vertical-align: top\">Height: 233 Width: 216</td>\n",
              "        <td style=\"padding-left: 1em; padding-right: 1em; text-align: center; vertical-align: top\">walle</td>\n",
              "    </tr>\n",
              "    <tr>\n",
              "        <td style=\"padding-left: 1em; padding-right: 1em; text-align: center; vertical-align: top\">/content/drive/demo-colab<br>/demo-python-image-cl ...</td>\n",
              "        <td style=\"padding-left: 1em; padding-right: 1em; text-align: center; vertical-align: top\">Height: 180 Width: 320</td>\n",
              "        <td style=\"padding-left: 1em; padding-right: 1em; text-align: center; vertical-align: top\">walle</td>\n",
              "    </tr>\n",
              "    <tr>\n",
              "        <td style=\"padding-left: 1em; padding-right: 1em; text-align: center; vertical-align: top\">/content/drive/demo-colab<br>/demo-python-image-cl ...</td>\n",
              "        <td style=\"padding-left: 1em; padding-right: 1em; text-align: center; vertical-align: top\">Height: 169 Width: 299</td>\n",
              "        <td style=\"padding-left: 1em; padding-right: 1em; text-align: center; vertical-align: top\">doraemon</td>\n",
              "    </tr>\n",
              "    <tr>\n",
              "        <td style=\"padding-left: 1em; padding-right: 1em; text-align: center; vertical-align: top\">/content/drive/demo-colab<br>/demo-python-image-cl ...</td>\n",
              "        <td style=\"padding-left: 1em; padding-right: 1em; text-align: center; vertical-align: top\">Height: 480 Width: 640</td>\n",
              "        <td style=\"padding-left: 1em; padding-right: 1em; text-align: center; vertical-align: top\">doraemon</td>\n",
              "    </tr>\n",
              "    <tr>\n",
              "        <td style=\"padding-left: 1em; padding-right: 1em; text-align: center; vertical-align: top\">/content/drive/demo-colab<br>/demo-python-image-cl ...</td>\n",
              "        <td style=\"padding-left: 1em; padding-right: 1em; text-align: center; vertical-align: top\">Height: 1064 Width: 600</td>\n",
              "        <td style=\"padding-left: 1em; padding-right: 1em; text-align: center; vertical-align: top\">doraemon</td>\n",
              "    </tr>\n",
              "    <tr>\n",
              "        <td style=\"padding-left: 1em; padding-right: 1em; text-align: center; vertical-align: top\">/content/drive/demo-colab<br>/demo-python-image-cl ...</td>\n",
              "        <td style=\"padding-left: 1em; padding-right: 1em; text-align: center; vertical-align: top\">Height: 322 Width: 268</td>\n",
              "        <td style=\"padding-left: 1em; padding-right: 1em; text-align: center; vertical-align: top\">doraemon</td>\n",
              "    </tr>\n",
              "    <tr>\n",
              "        <td style=\"padding-left: 1em; padding-right: 1em; text-align: center; vertical-align: top\">/content/drive/demo-colab<br>/demo-python-image-cl ...</td>\n",
              "        <td style=\"padding-left: 1em; padding-right: 1em; text-align: center; vertical-align: top\">Height: 201 Width: 251</td>\n",
              "        <td style=\"padding-left: 1em; padding-right: 1em; text-align: center; vertical-align: top\">doraemon</td>\n",
              "    </tr>\n",
              "    <tr>\n",
              "        <td style=\"padding-left: 1em; padding-right: 1em; text-align: center; vertical-align: top\">/content/drive/demo-colab<br>/demo-python-image-cl ...</td>\n",
              "        <td style=\"padding-left: 1em; padding-right: 1em; text-align: center; vertical-align: top\">Height: 1426 Width: 1000</td>\n",
              "        <td style=\"padding-left: 1em; padding-right: 1em; text-align: center; vertical-align: top\">walle</td>\n",
              "    </tr>\n",
              "</table>\n",
              "[199 rows x 3 columns]<br/>Note: Only the head of the SFrame is printed.<br/>You can use print_rows(num_rows=m, num_columns=n) to print more rows and columns.\n",
              "</div>"
            ],
            "text/plain": [
              "Columns:\n",
              "\tpath\tstr\n",
              "\timage\tImage\n",
              "\tlabel\tstr\n",
              "\n",
              "Rows: 199\n",
              "\n",
              "Data:\n",
              "+-------------------------------+--------------------------+----------+\n",
              "|              path             |          image           |  label   |\n",
              "+-------------------------------+--------------------------+----------+\n",
              "| /content/drive/demo-colab/... |  Height: 450 Width: 800  |  walle   |\n",
              "| /content/drive/demo-colab/... |  Height: 330 Width: 255  |  walle   |\n",
              "| /content/drive/demo-colab/... |  Height: 233 Width: 216  |  walle   |\n",
              "| /content/drive/demo-colab/... |  Height: 180 Width: 320  |  walle   |\n",
              "| /content/drive/demo-colab/... |  Height: 169 Width: 299  | doraemon |\n",
              "| /content/drive/demo-colab/... |  Height: 480 Width: 640  | doraemon |\n",
              "| /content/drive/demo-colab/... | Height: 1064 Width: 600  | doraemon |\n",
              "| /content/drive/demo-colab/... |  Height: 322 Width: 268  | doraemon |\n",
              "| /content/drive/demo-colab/... |  Height: 201 Width: 251  | doraemon |\n",
              "| /content/drive/demo-colab/... | Height: 1426 Width: 1000 |  walle   |\n",
              "+-------------------------------+--------------------------+----------+\n",
              "[199 rows x 3 columns]\n",
              "Note: Only the head of the SFrame is printed.\n",
              "You can use print_rows(num_rows=m, num_columns=n) to print more rows and columns."
            ]
          },
          "metadata": {
            "tags": []
          },
          "execution_count": 13
        }
      ]
    },
    {
      "metadata": {
        "id": "MSQM7FUY9oDx",
        "colab_type": "code",
        "colab": {
          "autoexec": {
            "startup": false,
            "wait_interval": 0
          }
        }
      },
      "cell_type": "code",
      "source": [
        "data.save('doraemon-walle.sframe')"
      ],
      "execution_count": 0,
      "outputs": []
    },
    {
      "metadata": {
        "id": "JqqEI3-v9oDz",
        "colab_type": "code",
        "colab": {
          "autoexec": {
            "startup": false,
            "wait_interval": 0
          },
          "output_extras": [
            {
              "item_id": 1
            }
          ],
          "base_uri": "https://localhost:8080/",
          "height": 325
        },
        "outputId": "6ad6ae99-91b7-4785-a535-0b02ae126a99",
        "executionInfo": {
          "status": "error",
          "timestamp": 1517280710168,
          "user_tz": -480,
          "elapsed": 3505,
          "user": {
            "displayName": "Shuyi Wang",
            "photoUrl": "//lh3.googleusercontent.com/-1LlXFbFTMeo/AAAAAAAAAAI/AAAAAAAARpY/98ntj53mwGo/s50-c-k-no/photo.jpg",
            "userId": "104523040041671857605"
          }
        }
      },
      "cell_type": "code",
      "source": [
        "data.explore()"
      ],
      "execution_count": 15,
      "outputs": [
        {
          "output_type": "error",
          "ename": "NotImplementedError",
          "evalue": "ignored",
          "traceback": [
            "\u001b[0;31m\u001b[0m",
            "\u001b[0;31mNotImplementedError\u001b[0mTraceback (most recent call last)",
            "\u001b[0;32m<ipython-input-15-3b8cc948bfd5>\u001b[0m in \u001b[0;36m<module>\u001b[0;34m()\u001b[0m\n\u001b[0;32m----> 1\u001b[0;31m \u001b[0mdata\u001b[0m\u001b[0;34m.\u001b[0m\u001b[0mexplore\u001b[0m\u001b[0;34m(\u001b[0m\u001b[0;34m)\u001b[0m\u001b[0;34m\u001b[0m\u001b[0m\n\u001b[0m",
            "\u001b[0;32m/usr/local/lib/python2.7/dist-packages/turicreate/data_structures/sframe.pyc\u001b[0m in \u001b[0;36mexplore\u001b[0;34m(self, title)\u001b[0m\n\u001b[1;32m   4428\u001b[0m         \u001b[0;32mimport\u001b[0m \u001b[0msys\u001b[0m\u001b[0;34m\u001b[0m\u001b[0m\n\u001b[1;32m   4429\u001b[0m         \u001b[0;32mif\u001b[0m \u001b[0msys\u001b[0m\u001b[0;34m.\u001b[0m\u001b[0mplatform\u001b[0m \u001b[0;34m!=\u001b[0m \u001b[0;34m'darwin'\u001b[0m\u001b[0;34m:\u001b[0m\u001b[0;34m\u001b[0m\u001b[0m\n\u001b[0;32m-> 4430\u001b[0;31m             \u001b[0;32mraise\u001b[0m \u001b[0mNotImplementedError\u001b[0m\u001b[0;34m(\u001b[0m\u001b[0;34m'Visualization is currently supported only on macOS.'\u001b[0m\u001b[0;34m)\u001b[0m\u001b[0;34m\u001b[0m\u001b[0m\n\u001b[0m\u001b[1;32m   4431\u001b[0m \u001b[0;34m\u001b[0m\u001b[0m\n\u001b[1;32m   4432\u001b[0m         \u001b[0;32mimport\u001b[0m \u001b[0mos\u001b[0m\u001b[0;34m\u001b[0m\u001b[0m\n",
            "\u001b[0;31mNotImplementedError\u001b[0m: Visualization is currently supported only on macOS."
          ]
        }
      ]
    },
    {
      "metadata": {
        "id": "E_TgH4Ep9oD1",
        "colab_type": "code",
        "colab": {
          "autoexec": {
            "startup": false,
            "wait_interval": 0
          }
        }
      },
      "cell_type": "code",
      "source": [
        "train_data, test_data = data.random_split(0.8, seed=2)"
      ],
      "execution_count": 0,
      "outputs": []
    },
    {
      "metadata": {
        "id": "2kA_AHZV9oD4",
        "colab_type": "code",
        "colab": {
          "autoexec": {
            "startup": false,
            "wait_interval": 0
          },
          "output_extras": [
            {
              "item_id": 6
            },
            {
              "item_id": 7
            },
            {
              "item_id": 8
            },
            {
              "item_id": 9
            },
            {
              "item_id": 10
            },
            {
              "item_id": 11
            },
            {
              "item_id": 12
            },
            {
              "item_id": 13
            },
            {
              "item_id": 14
            },
            {
              "item_id": 15
            },
            {
              "item_id": 16
            },
            {
              "item_id": 17
            },
            {
              "item_id": 18
            },
            {
              "item_id": 19
            },
            {
              "item_id": 20
            },
            {
              "item_id": 21
            },
            {
              "item_id": 22
            },
            {
              "item_id": 23
            },
            {
              "item_id": 24
            },
            {
              "item_id": 25
            },
            {
              "item_id": 26
            },
            {
              "item_id": 27
            },
            {
              "item_id": 28
            },
            {
              "item_id": 29
            }
          ],
          "base_uri": "https://localhost:8080/",
          "height": 717
        },
        "outputId": "3e77c154-97f5-4c4e-e4f8-f5d71c315815",
        "executionInfo": {
          "status": "ok",
          "timestamp": 1517280812695,
          "user_tz": -480,
          "elapsed": 94356,
          "user": {
            "displayName": "Shuyi Wang",
            "photoUrl": "//lh3.googleusercontent.com/-1LlXFbFTMeo/AAAAAAAAAAI/AAAAAAAARpY/98ntj53mwGo/s50-c-k-no/photo.jpg",
            "userId": "104523040041671857605"
          }
        }
      },
      "cell_type": "code",
      "source": [
        "model = tc.image_classifier.create(train_data, target='label')"
      ],
      "execution_count": 17,
      "outputs": [
        {
          "output_type": "stream",
          "text": [
            "Downloading https://docs-assets.developer.apple.com/turicreate/models/resnet-50-symbol.json\n",
            "Download completed: /var/tmp/model_cache/resnet-50-symbol.json\n",
            "Downloading https://docs-assets.developer.apple.com/turicreate/models/resnet-50-0000.params\n",
            "Download completed: /var/tmp/model_cache/resnet-50-0000.params\n",
            "Resizing images...\n",
            "Performing feature extraction on resized images...\n",
            "Completed 168/168\n",
            "PROGRESS: Creating a validation set from 5 percent of training data. This may take a while.\n",
            "          You can set ``validation_set=None`` to disable validation tracking.\n",
            "\n"
          ],
          "name": "stdout"
        },
        {
          "output_type": "display_data",
          "data": {
            "text/plain": [
              "WARNING: The number of feature dimensions in this problem is very large in comparison with the number of examples. Unless an appropriate regularization value is set, this model may not provide accurate predictions for a validation/test set."
            ],
            "text/html": [
              "<pre>WARNING: The number of feature dimensions in this problem is very large in comparison with the number of examples. Unless an appropriate regularization value is set, this model may not provide accurate predictions for a validation/test set.</pre>"
            ]
          },
          "metadata": {
            "tags": []
          }
        },
        {
          "output_type": "display_data",
          "data": {
            "text/plain": [
              "WARNING: Detected extremely low variance for feature(s) '__image_features__' because all entries are nearly the same.\n",
              "Proceeding with model training using all features. If the model does not provide results of adequate quality, exclude the above mentioned feature(s) from the input dataset."
            ],
            "text/html": [
              "<pre>WARNING: Detected extremely low variance for feature(s) '__image_features__' because all entries are nearly the same.\n",
              "Proceeding with model training using all features. If the model does not provide results of adequate quality, exclude the above mentioned feature(s) from the input dataset.</pre>"
            ]
          },
          "metadata": {
            "tags": []
          }
        },
        {
          "output_type": "display_data",
          "data": {
            "text/plain": [
              "Logistic regression:"
            ],
            "text/html": [
              "<pre>Logistic regression:</pre>"
            ]
          },
          "metadata": {
            "tags": []
          }
        },
        {
          "output_type": "display_data",
          "data": {
            "text/plain": [
              "--------------------------------------------------------"
            ],
            "text/html": [
              "<pre>--------------------------------------------------------</pre>"
            ]
          },
          "metadata": {
            "tags": []
          }
        },
        {
          "output_type": "display_data",
          "data": {
            "text/plain": [
              "Number of examples          : 155"
            ],
            "text/html": [
              "<pre>Number of examples          : 155</pre>"
            ]
          },
          "metadata": {
            "tags": []
          }
        },
        {
          "output_type": "display_data",
          "data": {
            "text/plain": [
              "Number of classes           : 2"
            ],
            "text/html": [
              "<pre>Number of classes           : 2</pre>"
            ]
          },
          "metadata": {
            "tags": []
          }
        },
        {
          "output_type": "display_data",
          "data": {
            "text/plain": [
              "Number of feature columns   : 1"
            ],
            "text/html": [
              "<pre>Number of feature columns   : 1</pre>"
            ]
          },
          "metadata": {
            "tags": []
          }
        },
        {
          "output_type": "display_data",
          "data": {
            "text/plain": [
              "Number of unpacked features : 2048"
            ],
            "text/html": [
              "<pre>Number of unpacked features : 2048</pre>"
            ]
          },
          "metadata": {
            "tags": []
          }
        },
        {
          "output_type": "display_data",
          "data": {
            "text/plain": [
              "Number of coefficients    : 2049"
            ],
            "text/html": [
              "<pre>Number of coefficients    : 2049</pre>"
            ]
          },
          "metadata": {
            "tags": []
          }
        },
        {
          "output_type": "display_data",
          "data": {
            "text/plain": [
              "Starting L-BFGS"
            ],
            "text/html": [
              "<pre>Starting L-BFGS</pre>"
            ]
          },
          "metadata": {
            "tags": []
          }
        },
        {
          "output_type": "display_data",
          "data": {
            "text/plain": [
              "--------------------------------------------------------"
            ],
            "text/html": [
              "<pre>--------------------------------------------------------</pre>"
            ]
          },
          "metadata": {
            "tags": []
          }
        },
        {
          "output_type": "display_data",
          "data": {
            "text/plain": [
              "+-----------+----------+-----------+--------------+-------------------+---------------------+"
            ],
            "text/html": [
              "<pre>+-----------+----------+-----------+--------------+-------------------+---------------------+</pre>"
            ]
          },
          "metadata": {
            "tags": []
          }
        },
        {
          "output_type": "display_data",
          "data": {
            "text/plain": [
              "| Iteration | Passes   | Step size | Elapsed Time | Training-accuracy | Validation-accuracy |"
            ],
            "text/html": [
              "<pre>| Iteration | Passes   | Step size | Elapsed Time | Training-accuracy | Validation-accuracy |</pre>"
            ]
          },
          "metadata": {
            "tags": []
          }
        },
        {
          "output_type": "display_data",
          "data": {
            "text/plain": [
              "+-----------+----------+-----------+--------------+-------------------+---------------------+"
            ],
            "text/html": [
              "<pre>+-----------+----------+-----------+--------------+-------------------+---------------------+</pre>"
            ]
          },
          "metadata": {
            "tags": []
          }
        },
        {
          "output_type": "display_data",
          "data": {
            "text/plain": [
              "| 1         | 3        | 0.006452  | 1.046401     | 0.974194          | 1.000000            |"
            ],
            "text/html": [
              "<pre>| 1         | 3        | 0.006452  | 1.046401     | 0.974194          | 1.000000            |</pre>"
            ]
          },
          "metadata": {
            "tags": []
          }
        },
        {
          "output_type": "display_data",
          "data": {
            "text/plain": [
              "| 2         | 5        | 1.000000  | 1.081928     | 0.980645          | 1.000000            |"
            ],
            "text/html": [
              "<pre>| 2         | 5        | 1.000000  | 1.081928     | 0.980645          | 1.000000            |</pre>"
            ]
          },
          "metadata": {
            "tags": []
          }
        },
        {
          "output_type": "display_data",
          "data": {
            "text/plain": [
              "| 3         | 6        | 1.000000  | 1.102996     | 0.980645          | 1.000000            |"
            ],
            "text/html": [
              "<pre>| 3         | 6        | 1.000000  | 1.102996     | 0.980645          | 1.000000            |</pre>"
            ]
          },
          "metadata": {
            "tags": []
          }
        },
        {
          "output_type": "display_data",
          "data": {
            "text/plain": [
              "| 4         | 7        | 1.000000  | 1.125874     | 0.993548          | 1.000000            |"
            ],
            "text/html": [
              "<pre>| 4         | 7        | 1.000000  | 1.125874     | 0.993548          | 1.000000            |</pre>"
            ]
          },
          "metadata": {
            "tags": []
          }
        },
        {
          "output_type": "display_data",
          "data": {
            "text/plain": [
              "| 5         | 8        | 1.000000  | 1.146751     | 0.987097          | 1.000000            |"
            ],
            "text/html": [
              "<pre>| 5         | 8        | 1.000000  | 1.146751     | 0.987097          | 1.000000            |</pre>"
            ]
          },
          "metadata": {
            "tags": []
          }
        },
        {
          "output_type": "display_data",
          "data": {
            "text/plain": [
              "| 6         | 10       | 1.000000  | 1.177080     | 0.993548          | 1.000000            |"
            ],
            "text/html": [
              "<pre>| 6         | 10       | 1.000000  | 1.177080     | 0.993548          | 1.000000            |</pre>"
            ]
          },
          "metadata": {
            "tags": []
          }
        },
        {
          "output_type": "display_data",
          "data": {
            "text/plain": [
              "+-----------+----------+-----------+--------------+-------------------+---------------------+"
            ],
            "text/html": [
              "<pre>+-----------+----------+-----------+--------------+-------------------+---------------------+</pre>"
            ]
          },
          "metadata": {
            "tags": []
          }
        },
        {
          "output_type": "display_data",
          "data": {
            "text/plain": [
              "TERMINATED: Iteration limit reached."
            ],
            "text/html": [
              "<pre>TERMINATED: Iteration limit reached.</pre>"
            ]
          },
          "metadata": {
            "tags": []
          }
        },
        {
          "output_type": "display_data",
          "data": {
            "text/plain": [
              "This model may not be optimal. To improve it, consider increasing `max_iterations`."
            ],
            "text/html": [
              "<pre>This model may not be optimal. To improve it, consider increasing `max_iterations`.</pre>"
            ]
          },
          "metadata": {
            "tags": []
          }
        }
      ]
    },
    {
      "metadata": {
        "id": "9fuG5Asf9oD6",
        "colab_type": "code",
        "colab": {
          "autoexec": {
            "startup": false,
            "wait_interval": 0
          }
        }
      },
      "cell_type": "code",
      "source": [
        "predictions = model.predict(test_data)"
      ],
      "execution_count": 0,
      "outputs": []
    },
    {
      "metadata": {
        "id": "srIn2w9A9oD8",
        "colab_type": "code",
        "colab": {
          "autoexec": {
            "startup": false,
            "wait_interval": 0
          },
          "output_extras": [
            {
              "item_id": 1
            }
          ],
          "base_uri": "https://localhost:8080/",
          "height": 37
        },
        "outputId": "a0ecdf7a-b229-4118-bb59-b4a8d97a2119",
        "executionInfo": {
          "status": "ok",
          "timestamp": 1517280856023,
          "user_tz": -480,
          "elapsed": 16863,
          "user": {
            "displayName": "Shuyi Wang",
            "photoUrl": "//lh3.googleusercontent.com/-1LlXFbFTMeo/AAAAAAAAAAI/AAAAAAAARpY/98ntj53mwGo/s50-c-k-no/photo.jpg",
            "userId": "104523040041671857605"
          }
        }
      },
      "cell_type": "code",
      "source": [
        "metrics = model.evaluate(test_data)\n",
        "print(metrics['accuracy'])"
      ],
      "execution_count": 19,
      "outputs": [
        {
          "output_type": "stream",
          "text": [
            "0.967741935484\n"
          ],
          "name": "stdout"
        }
      ]
    },
    {
      "metadata": {
        "id": "1FtZg1rl9oD-",
        "colab_type": "code",
        "colab": {
          "autoexec": {
            "startup": false,
            "wait_interval": 0
          },
          "output_extras": [
            {
              "item_id": 1
            }
          ],
          "base_uri": "https://localhost:8080/",
          "height": 97
        },
        "outputId": "ac204fcf-7ac5-4408-82a2-690fd9c61364",
        "executionInfo": {
          "status": "ok",
          "timestamp": 1517280859113,
          "user_tz": -480,
          "elapsed": 1338,
          "user": {
            "displayName": "Shuyi Wang",
            "photoUrl": "//lh3.googleusercontent.com/-1LlXFbFTMeo/AAAAAAAAAAI/AAAAAAAARpY/98ntj53mwGo/s50-c-k-no/photo.jpg",
            "userId": "104523040041671857605"
          }
        }
      },
      "cell_type": "code",
      "source": [
        "predictions"
      ],
      "execution_count": 20,
      "outputs": [
        {
          "output_type": "execute_result",
          "data": {
            "text/plain": [
              "dtype: str\n",
              "Rows: 31\n",
              "['walle', 'walle', 'walle', 'walle', 'walle', 'walle', 'doraemon', 'walle', 'doraemon', 'doraemon', 'walle', 'walle', 'doraemon', 'doraemon', 'walle', 'doraemon', 'doraemon', 'doraemon', 'doraemon', 'walle', 'walle', 'doraemon', 'doraemon', 'doraemon', 'walle', 'doraemon', 'doraemon', 'doraemon', 'doraemon', 'doraemon', 'walle']"
            ]
          },
          "metadata": {
            "tags": []
          },
          "execution_count": 20
        }
      ]
    },
    {
      "metadata": {
        "id": "s7911aBg9oEA",
        "colab_type": "code",
        "colab": {
          "autoexec": {
            "startup": false,
            "wait_interval": 0
          },
          "output_extras": [
            {
              "item_id": 1
            }
          ],
          "base_uri": "https://localhost:8080/",
          "height": 97
        },
        "outputId": "5618e33b-8b7b-47ce-ecb8-22eac969be55",
        "executionInfo": {
          "status": "ok",
          "timestamp": 1517280861579,
          "user_tz": -480,
          "elapsed": 1238,
          "user": {
            "displayName": "Shuyi Wang",
            "photoUrl": "//lh3.googleusercontent.com/-1LlXFbFTMeo/AAAAAAAAAAI/AAAAAAAARpY/98ntj53mwGo/s50-c-k-no/photo.jpg",
            "userId": "104523040041671857605"
          }
        }
      },
      "cell_type": "code",
      "source": [
        "test_data['label']"
      ],
      "execution_count": 21,
      "outputs": [
        {
          "output_type": "execute_result",
          "data": {
            "text/plain": [
              "dtype: str\n",
              "Rows: 31\n",
              "['walle', 'walle', 'walle', 'walle', 'walle', 'walle', 'doraemon', 'doraemon', 'doraemon', 'doraemon', 'walle', 'walle', 'doraemon', 'doraemon', 'walle', 'doraemon', 'doraemon', 'doraemon', 'doraemon', 'walle', 'walle', 'doraemon', 'doraemon', 'doraemon', 'walle', 'doraemon', 'doraemon', 'doraemon', 'doraemon', 'doraemon', 'walle']"
            ]
          },
          "metadata": {
            "tags": []
          },
          "execution_count": 21
        }
      ]
    },
    {
      "metadata": {
        "id": "lXRB6hgx9oEC",
        "colab_type": "code",
        "colab": {
          "autoexec": {
            "startup": false,
            "wait_interval": 0
          },
          "output_extras": [
            {
              "item_id": 1
            }
          ],
          "base_uri": "https://localhost:8080/",
          "height": 91
        },
        "outputId": "bb884bf7-51bb-448c-9f74-5c009d5fdfa5",
        "executionInfo": {
          "status": "ok",
          "timestamp": 1517280863585,
          "user_tz": -480,
          "elapsed": 1216,
          "user": {
            "displayName": "Shuyi Wang",
            "photoUrl": "//lh3.googleusercontent.com/-1LlXFbFTMeo/AAAAAAAAAAI/AAAAAAAARpY/98ntj53mwGo/s50-c-k-no/photo.jpg",
            "userId": "104523040041671857605"
          }
        }
      },
      "cell_type": "code",
      "source": [
        "test_data[test_data['label'] != predictions]"
      ],
      "execution_count": 22,
      "outputs": [
        {
          "output_type": "execute_result",
          "data": {
            "text/html": [
              "<div style=\"max-height:1000px;max-width:1500px;overflow:auto;\"><table frame=\"box\" rules=\"cols\">\n",
              "    <tr>\n",
              "        <th style=\"padding-left: 1em; padding-right: 1em; text-align: center\">path</th>\n",
              "        <th style=\"padding-left: 1em; padding-right: 1em; text-align: center\">image</th>\n",
              "        <th style=\"padding-left: 1em; padding-right: 1em; text-align: center\">label</th>\n",
              "    </tr>\n",
              "    <tr>\n",
              "        <td style=\"padding-left: 1em; padding-right: 1em; text-align: center; vertical-align: top\">/content/drive/demo-colab<br>/demo-python-image-cl ...</td>\n",
              "        <td style=\"padding-left: 1em; padding-right: 1em; text-align: center; vertical-align: top\">Height: 400 Width: 640</td>\n",
              "        <td style=\"padding-left: 1em; padding-right: 1em; text-align: center; vertical-align: top\">doraemon</td>\n",
              "    </tr>\n",
              "</table>\n",
              "[1 rows x 3 columns]<br/>\n",
              "</div>"
            ],
            "text/plain": [
              "Columns:\n",
              "\tpath\tstr\n",
              "\timage\tImage\n",
              "\tlabel\tstr\n",
              "\n",
              "Rows: 1\n",
              "\n",
              "Data:\n",
              "+-------------------------------+------------------------+----------+\n",
              "|              path             |         image          |  label   |\n",
              "+-------------------------------+------------------------+----------+\n",
              "| /content/drive/demo-colab/... | Height: 400 Width: 640 | doraemon |\n",
              "+-------------------------------+------------------------+----------+\n",
              "[1 rows x 3 columns]"
            ]
          },
          "metadata": {
            "tags": []
          },
          "execution_count": 22
        }
      ]
    },
    {
      "metadata": {
        "id": "1ldvuwO99oEE",
        "colab_type": "code",
        "colab": {
          "autoexec": {
            "startup": false,
            "wait_interval": 0
          }
        }
      },
      "cell_type": "code",
      "source": [
        "wrong_pred_img_path = test_data[predictions != test_data['label']][0]['path']"
      ],
      "execution_count": 0,
      "outputs": []
    },
    {
      "metadata": {
        "id": "O4m1Fypg_ROR",
        "colab_type": "code",
        "colab": {
          "autoexec": {
            "startup": false,
            "wait_interval": 0
          }
        }
      },
      "cell_type": "code",
      "source": [
        "%matplotlib inline"
      ],
      "execution_count": 0,
      "outputs": []
    },
    {
      "metadata": {
        "id": "ZA9QPWCD9oEH",
        "colab_type": "code",
        "colab": {
          "autoexec": {
            "startup": false,
            "wait_interval": 0
          }
        }
      },
      "cell_type": "code",
      "source": [
        "img = tc.Image(wrong_pred_img_path)"
      ],
      "execution_count": 0,
      "outputs": []
    },
    {
      "metadata": {
        "id": "6SRtbL3W9oEJ",
        "colab_type": "code",
        "colab": {
          "autoexec": {
            "startup": false,
            "wait_interval": 0
          }
        }
      },
      "cell_type": "code",
      "source": [
        "img.show()"
      ],
      "execution_count": 0,
      "outputs": []
    },
    {
      "metadata": {
        "id": "ZBeLAuck9oEL",
        "colab_type": "code",
        "colab": {
          "autoexec": {
            "startup": false,
            "wait_interval": 0
          },
          "output_extras": [
            {
              "item_id": 1
            }
          ],
          "base_uri": "https://localhost:8080/",
          "height": 37
        },
        "outputId": "18955921-187a-4bb3-ca9f-8aa8e5f6f150",
        "executionInfo": {
          "status": "ok",
          "timestamp": 1517280916076,
          "user_tz": -480,
          "elapsed": 1031,
          "user": {
            "displayName": "Shuyi Wang",
            "photoUrl": "//lh3.googleusercontent.com/-1LlXFbFTMeo/AAAAAAAAAAI/AAAAAAAARpY/98ntj53mwGo/s50-c-k-no/photo.jpg",
            "userId": "104523040041671857605"
          }
        }
      },
      "cell_type": "code",
      "source": [
        "wrong_pred_img_path"
      ],
      "execution_count": 28,
      "outputs": [
        {
          "output_type": "execute_result",
          "data": {
            "text/plain": [
              "'/content/drive/demo-colab/demo-python-image-classification/image/doraemon/image-020.jpg'"
            ]
          },
          "metadata": {
            "tags": []
          },
          "execution_count": 28
        }
      ]
    },
    {
      "metadata": {
        "id": "ZjUBayGE_W4t",
        "colab_type": "code",
        "colab": {
          "autoexec": {
            "startup": false,
            "wait_interval": 0
          }
        }
      },
      "cell_type": "code",
      "source": [
        "tc.Image('image/doraemon/image-020.jpg').show()"
      ],
      "execution_count": 0,
      "outputs": []
    },
    {
      "metadata": {
        "id": "HcDpTDo-_c4P",
        "colab_type": "code",
        "colab": {
          "autoexec": {
            "startup": false,
            "wait_interval": 0
          },
          "output_extras": [
            {
              "item_id": 1
            }
          ],
          "base_uri": "https://localhost:8080/",
          "height": 418
        },
        "outputId": "80a926ef-6a43-4de2-d1bf-745a68bc0b77",
        "executionInfo": {
          "status": "ok",
          "timestamp": 1517281005297,
          "user_tz": -480,
          "elapsed": 3860,
          "user": {
            "displayName": "Shuyi Wang",
            "photoUrl": "//lh3.googleusercontent.com/-1LlXFbFTMeo/AAAAAAAAAAI/AAAAAAAARpY/98ntj53mwGo/s50-c-k-no/photo.jpg",
            "userId": "104523040041671857605"
          }
        }
      },
      "cell_type": "code",
      "source": [
        "from IPython.display import Image\n",
        "Image(filename='image/doraemon/image-020.jpg') "
      ],
      "execution_count": 31,
      "outputs": [
        {
          "output_type": "execute_result",
          "data": {
            "image/jpeg": "[encoded data removed]",
            "text/plain": [
              "<IPython.core.display.Image object>"
            ]
          },
          "metadata": {
            "tags": []
          },
          "execution_count": 31
        }
      ]
    },
    {
      "metadata": {
        "id": "QCrsUlI9_r-j",
        "colab_type": "code",
        "colab": {
          "autoexec": {
            "startup": false,
            "wait_interval": 0
          }
        }
      },
      "cell_type": "code",
      "source": [
        ""
      ],
      "execution_count": 0,
      "outputs": []
    }
  ]
}